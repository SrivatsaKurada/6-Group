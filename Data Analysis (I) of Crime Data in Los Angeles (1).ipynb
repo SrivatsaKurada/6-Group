{
 "cells": [
  {
   "cell_type": "markdown",
   "id": "188307aa",
   "metadata": {},
   "source": [
    "<h1 align=\"center\"> Milestone 2: Data Analysis I </h1>\n",
    "<h3 align=\"center\"> IST 5520: Data Science and Machine Learning with Python </h3>\n",
    "<h3 align=\"center\"> By: Group 6 </h3>"
   ]
  },
  {
   "cell_type": "markdown",
   "id": "ebb98758",
   "metadata": {},
   "source": [
    "# Business Problem\n",
    "It would come as no surprise that crime is pervasive in Los Angeles. Owing to a large homeless population, gang activity, and high rates of violent crimes, certain parts of Los Angeles are known to be dangerous. This project aims to improve public safety in Los Angeles. By using the dataset, this project serves as a tool for Los Angeles Police Department to predict future crimes in order to take further actions. This data is transcribed from original crime reports released by the LAPD that are typed on paper and therefore there may be some inaccuracies within the data.  Predictive analysis can be used for more efficient placement, scheduling, and routines of police officers, thus optimizing the patrolling in the Los Angeles region.<br>\n",
    "Following are some references in regard to the seriousness of the crime activities in Los Angeles.\n",
    "\n",
    "https://www.lamag.com/citythinkblog/crime-in-los-angeles/<br>\n",
    "https://losangeles.cbslocal.com/tag/crime/"
   ]
  },
  {
   "cell_type": "markdown",
   "id": "163ab682",
   "metadata": {},
   "source": [
    "# Scenario and Research Questions\n",
    "\n",
    "This project aims to build a predictive model to \n",
    "### Crime forecasting \n",
    "\n",
    "Predictive analysis can be used for more efficient placement, scheduling, and routines of police officers, thus optimizing the patrolling in the Los Angeles region.\n",
    "\n",
    "### Gathering insights from data visualizations\n",
    "\n",
    "Visualizations aid human perception and encourage \n",
    "\n",
    "## Research Questions\n",
    "\n",
    "Some potential research questions that can be addressed include:\n",
    "\n",
    "a) What are the areas where crime is more likely to occur at a particular time?\n",
    "\n",
    "b) Which year was the highest crime rate recorded in between 2010 and 2020?\n",
    "\n",
    "c) Which day of the week is most violent in LA?"
   ]
  },
  {
   "cell_type": "markdown",
   "id": "884fa672",
   "metadata": {},
   "source": [
    "# Data Source and Collection\n",
    "The dataset contains crime data in the Los Angeles area dated from 2010 to 2020. \n",
    "Following is the link to the dataset:\n",
    "https://www.kaggle.com/sumaiaparveenshupti/los-angeles-crime-data-20102020"
   ]
  },
  {
   "cell_type": "markdown",
   "id": "a3aa412e",
   "metadata": {},
   "source": [
    "# Attributes Description \n",
    "\n",
    "DR_NO: Division of Records Number: Official file number made up of a 2 digit year, area ID, and 5 digits. <br>\n",
    "API Field Name: MM/DD/YYYY.<br>\n",
    "DATE OCC: MM/DD/YYYY.<br>\n",
    "TIME OCC: In 24 hour military time.<br>\n",
    "AREA: The LAPD has 21 Community Police Stations referred to as Geographic Areas within the department. These Geographic Areas are sequentially numbered from 1-21.<br>\n",
    "AREA NAME: The 21 Geographic Areas or Patrol Divisions are also given a name designation that references a landmark or the surrounding community that it is responsible for. For example 77th Street Division is located at the intersection of South Broadway and 77th Street, serving neighborhoods in South Los Angeles.<br>\n",
    "Rpt Dist No: A four-digit code that represents a sub-area within a Geographic Area. All crime records reference the \"RD\" that it occurred in for statistical comparisons.<br>\n",
    "Crm Cd: Indicates the crime committed. (Same as Crime Code 1)<br>\n",
    "Crm Cd Desc: Defines the Crime Code provided.<br>\n",
    "Mocodes: Modus Operandi: Activities associated with the suspect in commission of the crime.<br>\n",
    "Vict Age: Two character numeric.<br>\n",
    "Vict Sex: F - Female M - Male X - Unknown.<br>\n",
    "Vict Descent: Descent Code: A - Other Asian B - Black C - Chinese D - Cambodian F - Filipino G - Guamanian H - Hispanic/Latin/Mexican I - American Indian/Alaskan Native J - Japanese K - Korean L - Laotian O - Other P - Pacific Islander S - Samoan U - Hawaiian V - Vietnamese W - White X - Unknown Z - Asian Indian.<br>\n",
    "Premis Cd: The type of structure, vehicle, or location where the crime took place.<br>\n",
    "Premis Desc: Defines the Premise Code provided.<br>\n",
    "Weapon Used Cd: The type of weapon used in the crime.<br>\n",
    "Weapon Desc: Defines the Weapon Used Code provided.<br>\n",
    "Status: Status of the case. (IC is the default).<br>\n",
    "Status DEsc: Defines the Status Code provided.<br>\n",
    "Crm Cd 1: Indicates the crime committed. Crime Code 1 is the primary and most serious one. Crime Code 2, 3, and 4 are respectively less serious offenses. Lower crime class numbers are more serious.<br>\n",
    "Crm Cd 2: May contain a code for an additional crime, less serious than Crime Code 1.<br>\n",
    "Crm Cd 3: May contain a code for an additional crime, less serious than Crime Code 1.<br>\n",
    "Crm Cd 4: May contain a code for an additional crime, less serious than Crime Code 1.<br>\n",
    "LOCATION: Street address of crime incident rounded to the nearest hundred block to maintain anonymity.<br>\n",
    "Cross Street: Cross Street of rounded Address.<br>\n",
    "LAT: Latitude.<br>\n",
    "LON: Longitude.<br>\n",
    "\n",
    "\n",
    "| Attribute | Description |\n",
    "|-------|:-------:|\n",
    "| DR_NO |MM/DD/YYYY|\n",
    "|  API Field Name | MM/DD/YYYY  |\n",
    "|  DATE OCC | MM/DD/YYYY  |\n",
    "|  TIME OCC | In 24 hour military time  |\n",
    "| AREA  |  The LAPD has 21 Community Police Stations referred to as Geographic Areas within the department. These Geographic Areas are sequentially numbered from 1-21 |\n",
    "|AREA NAME   |  The 21 Geographic Areas or Patrol Divisions are also given a name designation that references a landmark or the surrounding community that it is responsible for. For example 77th Street Division is located at the intersection of South Broadway and 77th Street, serving neighborhoods in South Los Angeles |\n",
    "| Rpt Dist No  |   A four-digit code that represents a sub-area within a Geographic Area. All crime records reference the \"RD\" that it occurred in for statistical comparisons|\n",
    "| Crm Cd  |  Indicates the crime committed (Same as Crime Code 1)|\n",
    "|Crm Cd Desc   |  Defines the Crime Code provided |\n",
    "|  Mocodes |  Modus Operandi: Activities associated with the suspect in commission of the crime|\n",
    "|Vict Age   |   Two character numeric|\n",
    "|   Vict Sex| F - Female M - Male X - Unknown  |\n",
    "|  Vict Descent |   Descent Code: A - Other Asian B - Black C - Chinese D - Cambodian F - Filipino G - Guamanian H - Hispanic/Latin/Mexican I - American Indian/Alaskan Native J - Japanese K - Korean L - Laotian O - Other P - Pacific Islander S - Samoan U - Hawaiian V - Vietnamese W - White X - Unknown Z - Asian Indian|\n",
    "| Premis Cd  |   The type of structure, vehicle, or location where the crime took place|\n",
    "|  Weapon Used Cd | The type of weapon used in the crime  |\n",
    "|  Weapon Desc |  Defines the Weapon Used Code provided |\n",
    "| Status  |  Status of the case. (IC is the default) |\n",
    "|  Status DEsc |  Defines the Status Code provided |\n",
    "|  Crm Cd 1 | Indicates the crime committed. Crime Code 1 is the primary and most serious one. Crime Code 2, 3, and 4 are respectively less serious offenses. Lower crime class numbers are more serious  |\n",
    "|   Crm Cd 2|  May contain a code for an additional crime, less serious than Crime Code 1|\n",
    "|  Crm Cd 3 |   May contain a code for an additional crime, less serious than Crime Code 1|\n",
    "|  Crm Cd 4 | May contain a code for an additional crime, less serious than Crime Code 1  |\n",
    "|  LOCATION | Street address of crime incident rounded to the nearest hundred block to maintain anonymity  |\n",
    "|Cross Street| Cross Street of rounded Address|\n",
    "|LAT|Latitude|\n",
    "|LON|Longitude|\n",
    "\n"
   ]
  },
  {
   "cell_type": "markdown",
   "id": "f397eb03",
   "metadata": {},
   "source": [
    "# Reading in the datasets\n",
    "The data being used in this project consists of two datasets. The first one consists of crime records dated from 2010 to 2019. The second one consists of crime records dated from 2020 to present. "
   ]
  },
  {
   "cell_type": "code",
   "execution_count": 133,
   "id": "a49dfdd8",
   "metadata": {},
   "outputs": [],
   "source": [
    "import pandas as pd\n",
    "import numpy as np\n",
    "import matplotlib.pyplot as plt\n",
    "import seaborn as sns\n",
    "import plotly.graph_objects as go\n",
    "from sklearn.preprocessing import scale\n",
    "from sklearn.decomposition import PCA\n",
    "import scipy as sp\n",
    "\n",
    "dat=pd.read_csv('Crime_Data_from_2010_to_2019.csv')\n",
    "dat1=pd.read_csv('Crime_Data_from_2020_to_Present.csv')"
   ]
  },
  {
   "cell_type": "code",
   "execution_count": 134,
   "id": "192efe26",
   "metadata": {},
   "outputs": [],
   "source": [
    "pd.set_option(\"display.max_columns\",None)\n",
    "dat\n",
    "crimes=[dat,dat1]\n",
    "crimes=pd.concat(crimes)"
   ]
  },
  {
   "cell_type": "code",
   "execution_count": 135,
   "id": "c96cd25e",
   "metadata": {},
   "outputs": [
    {
     "name": "stdout",
     "output_type": "stream",
     "text": [
      "<class 'pandas.core.frame.DataFrame'>\n",
      "Int64Index: 2444416 entries, 0 to 326212\n",
      "Data columns (total 29 columns):\n",
      " #   Column          Dtype  \n",
      "---  ------          -----  \n",
      " 0   DR_NO           int64  \n",
      " 1   Date Rptd       object \n",
      " 2   DATE OCC        object \n",
      " 3   TIME OCC        int64  \n",
      " 4   AREA            float64\n",
      " 5   AREA NAME       object \n",
      " 6   Rpt Dist No     int64  \n",
      " 7   Part 1-2        int64  \n",
      " 8   Crm Cd          int64  \n",
      " 9   Crm Cd Desc     object \n",
      " 10  Mocodes         object \n",
      " 11  Vict Age        int64  \n",
      " 12  Vict Sex        object \n",
      " 13  Vict Descent    object \n",
      " 14  Premis Cd       float64\n",
      " 15  Premis Desc     object \n",
      " 16  Weapon Used Cd  float64\n",
      " 17  Weapon Desc     object \n",
      " 18  Status          object \n",
      " 19  Status Desc     object \n",
      " 20  Crm Cd 1        float64\n",
      " 21  Crm Cd 2        float64\n",
      " 22  Crm Cd 3        float64\n",
      " 23  Crm Cd 4        float64\n",
      " 24  LOCATION        object \n",
      " 25  Cross Street    object \n",
      " 26  LAT             float64\n",
      " 27  LON             float64\n",
      " 28  AREA            float64\n",
      "dtypes: float64(10), int64(6), object(13)\n",
      "memory usage: 559.5+ MB\n"
     ]
    }
   ],
   "source": [
    "crimes.info()"
   ]
  },
  {
   "cell_type": "code",
   "execution_count": 136,
   "id": "bf10b908",
   "metadata": {},
   "outputs": [
    {
     "data": {
      "text/plain": [
       "15614767"
      ]
     },
     "execution_count": 136,
     "metadata": {},
     "output_type": "execute_result"
    }
   ],
   "source": [
    "# Checking null values in the dataset\n",
    "crimes.isnull().sum().sum()\n"
   ]
  },
  {
   "cell_type": "markdown",
   "id": "1838fa62",
   "metadata": {},
   "source": [
    "# Data Cleansing\n",
    "It might not be the best approach to remove the rows containing missing values if such rows are abundant. They might contain valuable data in other columns and we don't want to skew the data towards an inaccurate state. Areas like machine learning and data mining face severe issues in the accuracy of their model predictions because of poor quality of data caused by missing values. In this process, the missing values in the dataset have been dealt with using various functions offered by Pandas like isnull() and fillna() along with methods like 'bfill' and 'pad'. Missing data can occur when no information is provided for one or more items or for a whole unit."
   ]
  },
  {
   "cell_type": "code",
   "execution_count": 137,
   "id": "dabd3371",
   "metadata": {},
   "outputs": [],
   "source": [
    "crimes_new = crimes\n",
    "crimes_new.drop(columns = ['Date Rptd','AREA','Part 1-2','Crm Cd 3','Crm Cd 4'], inplace = True)"
   ]
  },
  {
   "cell_type": "markdown",
   "id": "8525f759",
   "metadata": {},
   "source": [
    "Some columns can be removed if they are not required in the further analysis. The 'Date Rptd' column has been removed as its values are similar to the 'DATE OCC' column values. The 'AREA' column is a duplicate column and hence has been removed to avoid redundancy. No information about the 'Part 1-2' attribute has been given in the description of the dataset. The 'Crm Cd 3' and 'Crm Cd 4' columns mostly have null values (NaN values) and thus have been removed."
   ]
  },
  {
   "cell_type": "code",
   "execution_count": 138,
   "id": "0370d198",
   "metadata": {},
   "outputs": [
    {
     "data": {
      "text/html": [
       "<div>\n",
       "<style scoped>\n",
       "    .dataframe tbody tr th:only-of-type {\n",
       "        vertical-align: middle;\n",
       "    }\n",
       "\n",
       "    .dataframe tbody tr th {\n",
       "        vertical-align: top;\n",
       "    }\n",
       "\n",
       "    .dataframe thead th {\n",
       "        text-align: right;\n",
       "    }\n",
       "</style>\n",
       "<table border=\"1\" class=\"dataframe\">\n",
       "  <thead>\n",
       "    <tr style=\"text-align: right;\">\n",
       "      <th></th>\n",
       "      <th>DR_NO</th>\n",
       "      <th>DATE OCC</th>\n",
       "      <th>TIME OCC</th>\n",
       "      <th>AREA</th>\n",
       "      <th>AREA NAME</th>\n",
       "      <th>Rpt Dist No</th>\n",
       "      <th>Crm Cd</th>\n",
       "      <th>Crm Cd Desc</th>\n",
       "      <th>Mocodes</th>\n",
       "      <th>Vict Age</th>\n",
       "      <th>Vict Sex</th>\n",
       "      <th>Vict Descent</th>\n",
       "      <th>Premis Cd</th>\n",
       "      <th>Premis Desc</th>\n",
       "      <th>Weapon Used Cd</th>\n",
       "      <th>Weapon Desc</th>\n",
       "      <th>Status</th>\n",
       "      <th>Status Desc</th>\n",
       "      <th>Crm Cd 1</th>\n",
       "      <th>Crm Cd 2</th>\n",
       "      <th>LOCATION</th>\n",
       "      <th>Cross Street</th>\n",
       "      <th>LAT</th>\n",
       "      <th>LON</th>\n",
       "    </tr>\n",
       "  </thead>\n",
       "  <tbody>\n",
       "    <tr>\n",
       "      <th>0</th>\n",
       "      <td>1307355</td>\n",
       "      <td>02/20/2010 12:00:00 AM</td>\n",
       "      <td>1350</td>\n",
       "      <td>13.0</td>\n",
       "      <td>Newton</td>\n",
       "      <td>1385</td>\n",
       "      <td>900</td>\n",
       "      <td>VIOLATION OF COURT ORDER</td>\n",
       "      <td>0913 1814 2000</td>\n",
       "      <td>48</td>\n",
       "      <td>M</td>\n",
       "      <td>H</td>\n",
       "      <td>501.0</td>\n",
       "      <td>SINGLE FAMILY DWELLING</td>\n",
       "      <td>NaN</td>\n",
       "      <td>NaN</td>\n",
       "      <td>AA</td>\n",
       "      <td>Adult Arrest</td>\n",
       "      <td>900.0</td>\n",
       "      <td>NaN</td>\n",
       "      <td>300 E  GAGE                         AV</td>\n",
       "      <td>NaN</td>\n",
       "      <td>33.9825</td>\n",
       "      <td>-118.2695</td>\n",
       "    </tr>\n",
       "    <tr>\n",
       "      <th>1</th>\n",
       "      <td>11401303</td>\n",
       "      <td>09/12/2010 12:00:00 AM</td>\n",
       "      <td>45</td>\n",
       "      <td>14.0</td>\n",
       "      <td>Pacific</td>\n",
       "      <td>1485</td>\n",
       "      <td>740</td>\n",
       "      <td>VANDALISM - FELONY ($400 &amp; OVER, ALL CHURCH VA...</td>\n",
       "      <td>0329</td>\n",
       "      <td>0</td>\n",
       "      <td>M</td>\n",
       "      <td>W</td>\n",
       "      <td>101.0</td>\n",
       "      <td>STREET</td>\n",
       "      <td>NaN</td>\n",
       "      <td>NaN</td>\n",
       "      <td>IC</td>\n",
       "      <td>Invest Cont</td>\n",
       "      <td>740.0</td>\n",
       "      <td>NaN</td>\n",
       "      <td>SEPULVEDA                    BL</td>\n",
       "      <td>MANCHESTER                   AV</td>\n",
       "      <td>33.9599</td>\n",
       "      <td>-118.3962</td>\n",
       "    </tr>\n",
       "    <tr>\n",
       "      <th>2</th>\n",
       "      <td>70309629</td>\n",
       "      <td>08/09/2010 12:00:00 AM</td>\n",
       "      <td>1515</td>\n",
       "      <td>13.0</td>\n",
       "      <td>Newton</td>\n",
       "      <td>1324</td>\n",
       "      <td>946</td>\n",
       "      <td>OTHER MISCELLANEOUS CRIME</td>\n",
       "      <td>0344</td>\n",
       "      <td>0</td>\n",
       "      <td>M</td>\n",
       "      <td>H</td>\n",
       "      <td>103.0</td>\n",
       "      <td>ALLEY</td>\n",
       "      <td>NaN</td>\n",
       "      <td>NaN</td>\n",
       "      <td>IC</td>\n",
       "      <td>Invest Cont</td>\n",
       "      <td>946.0</td>\n",
       "      <td>NaN</td>\n",
       "      <td>1300 E  21ST                         ST</td>\n",
       "      <td>NaN</td>\n",
       "      <td>34.0224</td>\n",
       "      <td>-118.2524</td>\n",
       "    </tr>\n",
       "    <tr>\n",
       "      <th>3</th>\n",
       "      <td>90631215</td>\n",
       "      <td>01/05/2010 12:00:00 AM</td>\n",
       "      <td>150</td>\n",
       "      <td>6.0</td>\n",
       "      <td>Hollywood</td>\n",
       "      <td>646</td>\n",
       "      <td>900</td>\n",
       "      <td>VIOLATION OF COURT ORDER</td>\n",
       "      <td>1100 0400 1402</td>\n",
       "      <td>47</td>\n",
       "      <td>F</td>\n",
       "      <td>W</td>\n",
       "      <td>101.0</td>\n",
       "      <td>STREET</td>\n",
       "      <td>102.0</td>\n",
       "      <td>HAND GUN</td>\n",
       "      <td>IC</td>\n",
       "      <td>Invest Cont</td>\n",
       "      <td>900.0</td>\n",
       "      <td>998.0</td>\n",
       "      <td>CAHUENGA                     BL</td>\n",
       "      <td>HOLLYWOOD                    BL</td>\n",
       "      <td>34.1016</td>\n",
       "      <td>-118.3295</td>\n",
       "    </tr>\n",
       "    <tr>\n",
       "      <th>4</th>\n",
       "      <td>100100501</td>\n",
       "      <td>01/02/2010 12:00:00 AM</td>\n",
       "      <td>2100</td>\n",
       "      <td>1.0</td>\n",
       "      <td>Central</td>\n",
       "      <td>176</td>\n",
       "      <td>122</td>\n",
       "      <td>RAPE, ATTEMPTED</td>\n",
       "      <td>0400</td>\n",
       "      <td>47</td>\n",
       "      <td>F</td>\n",
       "      <td>H</td>\n",
       "      <td>103.0</td>\n",
       "      <td>ALLEY</td>\n",
       "      <td>400.0</td>\n",
       "      <td>STRONG-ARM (HANDS, FIST, FEET OR BODILY FORCE)</td>\n",
       "      <td>IC</td>\n",
       "      <td>Invest Cont</td>\n",
       "      <td>122.0</td>\n",
       "      <td>NaN</td>\n",
       "      <td>8TH                          ST</td>\n",
       "      <td>SAN PEDRO                    ST</td>\n",
       "      <td>34.0387</td>\n",
       "      <td>-118.2488</td>\n",
       "    </tr>\n",
       "  </tbody>\n",
       "</table>\n",
       "</div>"
      ],
      "text/plain": [
       "       DR_NO                DATE OCC  TIME OCC  AREA   AREA NAME  Rpt Dist No  \\\n",
       "0    1307355  02/20/2010 12:00:00 AM      1350   13.0     Newton         1385   \n",
       "1   11401303  09/12/2010 12:00:00 AM        45   14.0    Pacific         1485   \n",
       "2   70309629  08/09/2010 12:00:00 AM      1515   13.0     Newton         1324   \n",
       "3   90631215  01/05/2010 12:00:00 AM       150    6.0  Hollywood          646   \n",
       "4  100100501  01/02/2010 12:00:00 AM      2100    1.0    Central          176   \n",
       "\n",
       "   Crm Cd                                        Crm Cd Desc         Mocodes  \\\n",
       "0     900                           VIOLATION OF COURT ORDER  0913 1814 2000   \n",
       "1     740  VANDALISM - FELONY ($400 & OVER, ALL CHURCH VA...            0329   \n",
       "2     946                          OTHER MISCELLANEOUS CRIME            0344   \n",
       "3     900                           VIOLATION OF COURT ORDER  1100 0400 1402   \n",
       "4     122                                    RAPE, ATTEMPTED            0400   \n",
       "\n",
       "   Vict Age Vict Sex Vict Descent  Premis Cd             Premis Desc  \\\n",
       "0        48        M            H      501.0  SINGLE FAMILY DWELLING   \n",
       "1         0        M            W      101.0                  STREET   \n",
       "2         0        M            H      103.0                   ALLEY   \n",
       "3        47        F            W      101.0                  STREET   \n",
       "4        47        F            H      103.0                   ALLEY   \n",
       "\n",
       "   Weapon Used Cd                                     Weapon Desc Status  \\\n",
       "0             NaN                                             NaN     AA   \n",
       "1             NaN                                             NaN     IC   \n",
       "2             NaN                                             NaN     IC   \n",
       "3           102.0                                        HAND GUN     IC   \n",
       "4           400.0  STRONG-ARM (HANDS, FIST, FEET OR BODILY FORCE)     IC   \n",
       "\n",
       "    Status Desc  Crm Cd 1  Crm Cd 2                                 LOCATION  \\\n",
       "0  Adult Arrest     900.0       NaN   300 E  GAGE                         AV   \n",
       "1   Invest Cont     740.0       NaN          SEPULVEDA                    BL   \n",
       "2   Invest Cont     946.0       NaN  1300 E  21ST                         ST   \n",
       "3   Invest Cont     900.0     998.0          CAHUENGA                     BL   \n",
       "4   Invest Cont     122.0       NaN          8TH                          ST   \n",
       "\n",
       "                      Cross Street      LAT       LON  \n",
       "0                              NaN  33.9825 -118.2695  \n",
       "1  MANCHESTER                   AV  33.9599 -118.3962  \n",
       "2                              NaN  34.0224 -118.2524  \n",
       "3  HOLLYWOOD                    BL  34.1016 -118.3295  \n",
       "4  SAN PEDRO                    ST  34.0387 -118.2488  "
      ]
     },
     "execution_count": 138,
     "metadata": {},
     "output_type": "execute_result"
    }
   ],
   "source": [
    "crimes.head()"
   ]
  },
  {
   "cell_type": "code",
   "execution_count": null,
   "id": "5902c64e",
   "metadata": {},
   "outputs": [],
   "source": [
    "crimes_new['Crm Cd 1'] = crimes_new['Crm Cd 1'].fillna(method = 'pad')\n",
    "crimes_new['Crm Cd 2'] = crimes_new['Crm Cd 2'].fillna(method = 'bfill')\n",
    "crimes_new['Crm Cd 2'] = crimes_new['Crm Cd 2'].fillna(method = 'pad')\n",
    "crimes_new['Mocodes'] = crimes_new['Mocodes'].fillna(method = 'pad')\n",
    "crimes_new['AREA '] = crimes_new['AREA '].fillna(method = 'pad')\n",
    "crimes_new['Cross Street'] = crimes_new['Cross Street'].fillna(method = 'bfill')\n",
    "\n",
    "crimes_new = crimes_new.fillna({'Weapon Used Cd' :'UNKOWN',\n",
    "                                'Weapon Desc' : 'UNKOWN',\n",
    "                                'Vict Sex' : 'UNKOWN',\n",
    "                                'Vict Descent' : 'UNKOWN'})\n",
    "crimes_new['Premis Cd'] = crimes_new['Premis Cd'].fillna(method = 'pad')\n",
    "crimes_new['Premis Desc'] = crimes_new['Premis Desc'].fillna(method = 'pad')\n",
    "crimes_new['Status'] = crimes['Status'].fillna('bfill')\n",
    "crimes_new"
   ]
  },
  {
   "cell_type": "code",
   "execution_count": null,
   "id": "9e311257",
   "metadata": {},
   "outputs": [],
   "source": [
    "#Checking for null values after cleansing\n",
    "crimes_new.isnull().sum()"
   ]
  },
  {
   "cell_type": "markdown",
   "id": "6745659f",
   "metadata": {},
   "source": []
  },
  {
   "cell_type": "markdown",
   "id": "e25a9d19",
   "metadata": {},
   "source": [
    "Extracting the date,day name,month and year from DATE OCC column to visualize day-wise crime frequency."
   ]
  },
  {
   "cell_type": "markdown",
   "id": "cd41bba6",
   "metadata": {},
   "source": []
  },
  {
   "cell_type": "code",
   "execution_count": null,
   "id": "be13c194",
   "metadata": {},
   "outputs": [],
   "source": [
    "crimes_new['Date time values'] = pd.to_datetime(crimes_new['DATE OCC'])\n",
    "crimes_new['Year'] = crimes_new['Date time values'].dt.year\n",
    "crimes_new['Month'] = crimes_new['Date time values'].dt.month_name()\n",
    "crimes_new['Day'] = crimes_new['Date time values'].dt.day_name()\n",
    "crimes_new['TIME OCC'] = crimes_new['TIME OCC'].astype(str).str.zfill(4)\n",
    "crimes_new['HOUR OCC'] = crimes_new['TIME OCC'].apply(lambda t: int(t[:2]))"
   ]
  },
  {
   "cell_type": "code",
   "execution_count": null,
   "id": "45460d9a",
   "metadata": {},
   "outputs": [],
   "source": [
    "crimes_new.info()"
   ]
  },
  {
   "cell_type": "code",
   "execution_count": null,
   "id": "0bf1ccfa",
   "metadata": {},
   "outputs": [],
   "source": [
    "#Converting column names to upper case for better readability\n",
    "crimes_new.columns = map(str.upper, crimes_new.columns)"
   ]
  },
  {
   "cell_type": "code",
   "execution_count": null,
   "id": "dc9d1b90",
   "metadata": {},
   "outputs": [],
   "source": [
    "#Arranging columns containing numeric values to show in the beginning of the dataframe.\n",
    "crimes_new = crimes_new[['DR_NO','RPT DIST NO','CRM CD','VICT AGE','YEAR','HOUR OCC','DATE OCC','TIME OCC','AREA ','AREA NAME',\n",
    "               'CRM CD DESC','MOCODES','VICT SEX','VICT DESCENT','PREMIS CD','PREMIS DESC',\n",
    "                'WEAPON USED CD','WEAPON DESC','STATUS','STATUS DESC','CRM CD 1',\n",
    "                'LOCATION','CROSS STREET','LAT','LON','DATE TIME VALUES','MONTH','DAY']]\n",
    "\n",
    "crimes_new"
   ]
  },
  {
   "cell_type": "code",
   "execution_count": null,
   "id": "b49b9da2",
   "metadata": {},
   "outputs": [],
   "source": [
    "#Saving the cleansed dataset into a new csv file\n",
    "crimes_new.describe()\n",
    "crimes_new.to_csv('crimes_new.csv',index = False)"
   ]
  },
  {
   "cell_type": "markdown",
   "id": "f97fcb91",
   "metadata": {},
   "source": [
    " # Visualizing Crimes frequency\n",
    " "
   ]
  },
  {
   "cell_type": "code",
   "execution_count": null,
   "id": "335d087c",
   "metadata": {},
   "outputs": [],
   "source": [
    "plt.figure(figsize=(10,30))\n",
    "count = sns.countplot(\n",
    "        data = crimes_new,\n",
    "        y = 'CRM CD DESC',\n",
    ")\n",
    "plt.show()"
   ]
  },
  {
   "cell_type": "markdown",
   "id": "66d5cb85",
   "metadata": {},
   "source": [
    "As per the graph, the Crime Code Description 'BATTERY - SIMPLE ASSAULT' has been most reported in Los Angeles in the last 10 years. Whereas, 'SHOTS FIRED AT MOVING VEHICLE, TRAIN OR AIRCRAFT', 'DRIVING WITHOUT OWNER CONSENT(DWOC)','FALSE POLICE REPORT' are some of the least reported crimes which shows the rate of occurence of these crimes may be very low in the past 10 years."
   ]
  },
  {
   "cell_type": "markdown",
   "id": "9d4085ab",
   "metadata": {},
   "source": [
    "# Visualizing which day of the week is most violent in LA\n",
    "This visualization address the research question of the most violent day in a week in Los Angeles"
   ]
  },
  {
   "cell_type": "code",
   "execution_count": null,
   "id": "fb2cf321",
   "metadata": {},
   "outputs": [],
   "source": [
    "labels = crimes_new['DAY'].unique()\n",
    "values=[]\n",
    "for each in labels:\n",
    "    values.append(len(crimes_new[crimes_new['DAY']==each]))\n",
    "fig = go.Figure(data=[go.Pie(labels=labels, values=values, hole=.3)])\n",
    "fig.show()"
   ]
  },
  {
   "cell_type": "markdown",
   "id": "64bcdf40",
   "metadata": {},
   "source": [
    "We can see that Friday is the day where there are more crimes reported with 15.3% or 374,847 cases."
   ]
  },
  {
   "cell_type": "markdown",
   "id": "4ccee0ba",
   "metadata": {},
   "source": [
    "# Pattern indicating rise and fall of crime rate in Los Angeles"
   ]
  },
  {
   "cell_type": "code",
   "execution_count": null,
   "id": "23266fb3",
   "metadata": {},
   "outputs": [],
   "source": [
    "crimeByYear = crimes_new['YEAR'].value_counts(sort=False).sort_index()\n",
    "crimeByYear.plot(kind = 'line')"
   ]
  },
  {
   "cell_type": "markdown",
   "id": "8ddfd16b",
   "metadata": {},
   "source": [
    "As per the line graph, the crime rate peaked in the two-year period between 2016 and 2018."
   ]
  },
  {
   "cell_type": "markdown",
   "id": "c0eaf337",
   "metadata": {},
   "source": [
    "# Area Wise Crime Analysis"
   ]
  },
  {
   "cell_type": "markdown",
   "id": "37828f10",
   "metadata": {},
   "source": [
    "An area-wise Crime Analysis has been visualized via bar plots for the 21 areas in Los Angeles. "
   ]
  },
  {
   "cell_type": "code",
   "execution_count": null,
   "id": "6904a529",
   "metadata": {},
   "outputs": [],
   "source": [
    "crimeByArea = crimes_new['AREA NAME'].value_counts().sort_index()\n",
    "crimeCommonType = {}\n",
    "for area in crimeByArea.keys():\n",
    "    crimeArea = crimes_new[crimes_new['AREA NAME'] == area]['CRM CD DESC'].value_counts()[:10]\n",
    "    for crType in crimeArea.keys():\n",
    "        if not crType in crimeCommonType:\n",
    "            crimeCommonType[crType] = [area]\n",
    "        else:\n",
    "            crimeCommonType[crType].append(area)\n",
    "    crimeArea = crimeArea.plot(kind = 'bar',title = \"Crimes in \" + area)\n",
    "    plt.show()"
   ]
  },
  {
   "cell_type": "markdown",
   "id": "c008d3f1",
   "metadata": {},
   "source": [
    "# Detecting outliers with boxplot rule"
   ]
  },
  {
   "cell_type": "code",
   "execution_count": null,
   "id": "812814f8",
   "metadata": {},
   "outputs": [],
   "source": [
    "#Calculation of first quantile\n",
    "q1 = crimes_new['VICT AGE'].quantile(0.25)\n",
    "\n",
    "#Calculation of third quantile\n",
    "q3 = crimes_new['VICT AGE'].quantile(0.75)\n",
    "\n",
    "# Calculate the interquantile range (IQR)\n",
    "IQR = q3 - q1"
   ]
  },
  {
   "cell_type": "code",
   "execution_count": null,
   "id": "f520e7b7",
   "metadata": {},
   "outputs": [],
   "source": [
    "#Evaluating the outliers\n",
    "crimes_new[crimes_new['VICT AGE']<q1 - 1.5*IQR]\n",
    "crimes_new[crimes_new['VICT AGE']>q3 + 1.5*IQR]"
   ]
  },
  {
   "cell_type": "markdown",
   "id": "87de9f69",
   "metadata": {},
   "source": [
    "Although there are 8377 outliers, removing them would not make much of a difference due to a large dataset but we are keeping them for now. If required, they can be removed during further analysis. "
   ]
  },
  {
   "cell_type": "markdown",
   "id": "41cb1d9d",
   "metadata": {},
   "source": [
    "# Pearson's correlation\n",
    "Pearson's correlation coefficient is the test statistics that measures the statistical relationship, or association, between two continuous variables."
   ]
  },
  {
   "cell_type": "code",
   "execution_count": null,
   "id": "d4263e95",
   "metadata": {},
   "outputs": [],
   "source": [
    "crimes_new.corr(method = 'pearson')"
   ]
  },
  {
   "cell_type": "markdown",
   "id": "97d0c15c",
   "metadata": {},
   "source": []
  },
  {
   "cell_type": "markdown",
   "id": "a8b10702",
   "metadata": {},
   "source": [
    "# Heatmap\n",
    "A good way to quickly check correlations among columns is by visualizing the correlation matrix as a heatmap."
   ]
  },
  {
   "cell_type": "code",
   "execution_count": null,
   "id": "5889525f",
   "metadata": {},
   "outputs": [],
   "source": [
    "mask = np.zeros_like(crimes_new.corr())\n",
    "mask[np.triu_indices_from(mask)] = True\n",
    "\n",
    "sns.heatmap(crimes_new.corr(), cmap='RdYlGn', vmax=1.0, vmin=-1.0 , mask = mask, linewidths=2)\n",
    "\n",
    "plt.yticks(rotation=0)\n",
    "plt.xticks(rotation=45)\n",
    "\n",
    "plt.savefig('correlation_heatmap.png',dpi=500,bbox_inches='tight')"
   ]
  },
  {
   "cell_type": "markdown",
   "id": "44bfc49e",
   "metadata": {},
   "source": [
    "# Principal Component Analysis\n",
    "\n",
    "## Normalization \n",
    "Normalization is a technique often applied as part of data preparation for machine learning. The goal of normalization is to change the values of numeric columns in the dataset to a common scale, without distorting differences in the ranges of values."
   ]
  },
  {
   "cell_type": "code",
   "execution_count": null,
   "id": "af8fdd38",
   "metadata": {},
   "outputs": [],
   "source": [
    "data_norm = scale(crimes_new.loc[:,'DR_NO':'HOUR OCC'])"
   ]
  },
  {
   "cell_type": "code",
   "execution_count": null,
   "id": "594be4b3",
   "metadata": {},
   "outputs": [],
   "source": [
    "pd.DataFrame(data_norm).describe().transpose()"
   ]
  },
  {
   "cell_type": "code",
   "execution_count": null,
   "id": "89397ecb",
   "metadata": {},
   "outputs": [],
   "source": [
    "#Correlation of normalized data\n",
    "pd.DataFrame(data_norm).corr()"
   ]
  },
  {
   "cell_type": "code",
   "execution_count": null,
   "id": "7e414cc8",
   "metadata": {},
   "outputs": [],
   "source": [
    "#Finding number of principal components\n",
    "principal = PCA(n_components = 6)\n",
    "\n",
    "principal.fit(data_norm)"
   ]
  },
  {
   "cell_type": "code",
   "execution_count": null,
   "id": "f341e5d3",
   "metadata": {},
   "outputs": [],
   "source": [
    "#Calculating variance\n",
    "variance = principal.explained_variance_ratio_\n",
    "\n",
    "print(variance)"
   ]
  },
  {
   "cell_type": "code",
   "execution_count": 128,
   "id": "a11baaa1",
   "metadata": {},
   "outputs": [
    {
     "name": "stdout",
     "output_type": "stream",
     "text": [
      "[ 33.23  50.92  67.7   84.11  99.88 100.  ]\n"
     ]
    }
   ],
   "source": [
    "#Calculating percentage variance\n",
    "variance1 = np.cumsum(np.round(principal.explained_variance_ratio_, decimals=4)*100)\n",
    "\n",
    "print(variance1)"
   ]
  },
  {
   "cell_type": "code",
   "execution_count": 127,
   "id": "c2ae75c4",
   "metadata": {},
   "outputs": [
    {
     "data": {
      "image/png": "[encoded data removed]",
      "text/plain": [
       "<Figure size 432x288 with 1 Axes>"
      ]
     },
     "metadata": {
      "needs_background": "light"
     },
     "output_type": "display_data"
    }
   ],
   "source": [
    "#Scree Plot\n",
    "variance1 = pd.DataFrame(variance1, index=np.arange(1,7))\n",
    "plt.plot(variance1,color='blue')\n",
    "plt.title('Scree Plot')\n",
    "plt.xlabel('Number of Principal Components')\n",
    "plt.ylabel('Cumulative Variance Explained')\n",
    "plt.savefig('scree_plot.png',dpi=100,bbox_inches='tight')"
   ]
  },
  {
   "cell_type": "markdown",
   "id": "2ea896fa",
   "metadata": {},
   "source": [
    "From the above plot we can see in order to maintain 90% variance the minimum number of components we need to keep are more than 4"
   ]
  }
 ],
 "metadata": {
  "kernelspec": {
   "display_name": "Python 3 (ipykernel)",
   "language": "python",
   "name": "python3"
  },
  "language_info": {
   "codemirror_mode": {
    "name": "ipython",
    "version": 3
   },
   "file_extension": ".py",
   "mimetype": "text/x-python",
   "name": "python",
   "nbconvert_exporter": "python",
   "pygments_lexer": "ipython3",
   "version": "3.9.6"
  }
 },
 "nbformat": 4,
 "nbformat_minor": 5
}
